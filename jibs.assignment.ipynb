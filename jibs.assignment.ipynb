{
  "cells": [
    {
      "cell_type": "code",
      "execution_count": 16,
      "id": "399f2147-23d1-4312-ac1b-f63fd321088b",
      "metadata": {
        "trusted": true
      },
      "outputs": [
        {
          "name": "stdout",
          "output_type": "stream",
          "text": [
            "Mean:17.1\n",
            "Median:17.5\n",
            "Mode:12\n"
          ]
        }
      ],
      "source": [
        "data = [12, 15, 14, 10, 18, 20, 22, 24, 17, 19]\n",
        "total = sum(data)\n",
        "count = len(data)\n",
        "mean_value = total / count\n",
        "sorted_data = sorted(data)\n",
        "n = len(sorted_data)\n",
        "if n % 2 == 1:\n",
        "    median_value = sorted_data[n // 2]\n",
        "else: \n",
        "    median_value = (sorted_data[n // 2 - 1] + sorted_data[n // 2]) / 2\n",
        "max_count = 0\n",
        "mode_value = None\n",
        "for num in data:\n",
        "    frequency = data.count(num)\n",
        "    if frequency > max_count:\n",
        "        max_count = frequency\n",
        "        mode_value = num\n",
        "print(f\"Mean:{mean_value}\")\n",
        "print(f\"Median:{median_value}\")\n",
        "print(f\"Mode:{mode_value}\")"
      ]
    },
    {
      "cell_type": "code",
      "execution_count": null,
      "id": "af12ead6-7237-4275-b683-2f6d46108642",
      "metadata": {
        "trusted": true
      },
      "outputs": [
        {
          "name": "stdout",
          "output_type": "stream",
          "text": [
            "Interquartile Range (IQR): 5.5\n",
            "Lower bound: 6.0\n",
            "Upper bound: 28.0\n",
            "Outliers: []\n",
            "Q1 (25th percentile): 14.25\n",
            "Q2 (50th percentile - Median): 17.5\n",
            "Q3 (75th percentile): 19.75\n"
          ]
        }
      ],
      "source": [
        "def percentile(data, percent):\n",
        "    sorted_data = sorted(data) \n",
        "    n = len(sorted_data)\n",
        "    index = (percent / 100) * (n - 1)  \n",
        "    \n",
        "    if index.is_integer():  \n",
        "        return sorted_data[int(index)]\n",
        "    else:\n",
        "        lower = sorted_data[int(index)]\n",
        "        upper = sorted_data[int(index) + 1]  \n",
        "        fraction = index - int(index)  \n",
        "        return lower + (upper - lower) * fraction \n",
        "data = [12, 15, 14, 10, 18, 20, 22, 24, 17, 19]\n",
        "sorted_data = sorted(data)\n",
        "Q1 = percentile(data, 25)\n",
        "Q3 = percentile(data, 75)\n",
        "IQR = Q3 - Q1\n",
        "lower_bound = Q1 - (1.5 * IQR)\n",
        "upper_bound = Q3 + (1.5 * IQR)\n",
        "outliers = []\n",
        "for num in sorted_data:\n",
        "    if num < lower_bound or num > upper_bound:\n",
        "        outliers.append(num)\n",
        "print(\"Interquartile Range (IQR):\", IQR)\n",
        "print(\"Lower bound:\", lower_bound)\n",
        "print(\"Upper bound:\", upper_bound)\n",
        "print(\"Outliers:\", outliers)\n",
        "data = [12, 15, 14, 10, 18, 20, 22, 24, 17, 19]\n",
        "Q1 = percentile(data, 25) \n",
        "Q2 = percentile(data, 50) \n",
        "Q3 = percentile(data, 75)\n",
        "print(\"Q1 (25th percentile):\", Q1)\n",
        "print(\"Q2 (50th percentile - Median):\", Q2)\n",
        "print(\"Q3 (75th percentile):\", Q3)"
      ]
    },
    {
      "cell_type": "code",
      "execution_count": 18,
      "id": "3ba372bb-dc68-4f11-9a09-b35e1af4c802",
      "metadata": {
        "trusted": true
      },
      "outputs": [
        {
          "name": "stdout",
          "output_type": "stream",
          "text": [
            "minimum value: 10\n",
            "maximum_value: 24\n"
          ]
        }
      ],
      "source": [
        "data=[12, 15, 14, 10, 18, 20, 22, 24, 17, 19]\n",
        "min_value=min(data)\n",
        "max_value=max(data)\n",
        "print(\"minimum value:,min_value)\n",
        "print(\"maximum_Value:,max_value)"
      ]
    },
    {
      "cell_type": "code",
      "execution_count": 31,
      "id": "8556d7e6-fc86-41d5-a275-b2f3e1aa4597",
      "metadata": {
        "trusted": true
      },
      "outputs": [
        {
          "name": "stdout",
          "output_type": "stream",
          "text": [
            "mean: 17.1\n",
            "variance: 17.490000000000002\n",
            "sample variance: 19.433333333333334\n",
            "standard deviation: 4.182104733265297\n",
            "z-scores: [-1.2194816546399667, -0.5021395048517512, -0.7412535547811564, -1.6977097544987771, 0.21520264493646432, 0.6934307447952747, 1.171658844654085, 1.6498869445128954, -0.02391140499294086, 0.4543166948658695]\n"
          ]
        }
      ],
      "source": [
        "data=[12,15,14,10,18,20,22,24,17,19]\n",
        "n=len(data)\n",
        "mean_value=sum(data)/n\n",
        "squared_diff=[(x-mean_value)**2 for x in data]\n",
        "variance=sum(squared_diff)/n\n",
        "sample_variance=sum(squared_diff)/(n-1)\n",
        "std_dev=(sum(squared_diff)/n)**0.5\n",
        "z_scores=[(x-mean_value)/std_dev for x in data]\n",
        "print(\"mean:\",mean_value)\n",
        "print(\"variance:\",variance)\n",
        "print(\"sample variance:\",sample_variance)\n",
        "print(\"standard deviation:\",std_dev)\n",
        "print(\"z-scores:\",z_scores)\n",
        "      "
      ]
    },
    {
      "cell_type": "code",
      "execution_count": null,
      "id": "52021a73-5dc0-48fd-89a5-e54b35d0c458",
      "metadata": {
        "trusted": true
      },
      "outputs": [],
      "source": []
    }
  ],
  "metadata": {
    "kernelspec": {
      "display_name": "Python (Pyodide)",
      "language": "python",
      "name": "python"
    },
    "language_info": {
      "codemirror_mode": {
        "name": "python",
        "version": 3
      },
      "file_extension": ".py",
      "mimetype": "text/x-python",
      "name": "python",
      "nbconvert_exporter": "python",
      "pygments_lexer": "ipython3",
      "version": "3.8"
    }
  },
  "nbformat": 4,
  "nbformat_minor": 5
}
