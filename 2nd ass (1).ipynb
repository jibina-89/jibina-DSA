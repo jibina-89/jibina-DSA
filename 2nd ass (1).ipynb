{
 "cells": [
  {
   "cell_type": "code",
   "execution_count": null,
   "id": "5d8a8eda-f232-4dbf-a628-433d3fdbcd72",
   "metadata": {},
   "outputs": [],
   "source": [
    "#numerical problems"
   ]
  },
  {
   "cell_type": "code",
   "execution_count": null,
   "id": "37c264ed-20d4-45fa-96f3-4591b86d5161",
   "metadata": {},
   "outputs": [],
   "source": [
    "1.problem 1"
   ]
  },
  {
   "cell_type": "code",
   "execution_count": 1,
   "id": "50ad1532-056b-45c6-9657-6620f9fc4684",
   "metadata": {},
   "outputs": [],
   "source": [
    "import pandas as pd\n",
    "import numpy as np"
   ]
  },
  {
   "cell_type": "code",
   "execution_count": 7,
   "id": "462d6318-1262-4656-97f8-67f55cf57e4a",
   "metadata": {},
   "outputs": [
    {
     "name": "stdout",
     "output_type": "stream",
     "text": [
      "    mpg  cylinders  displacement horsepower  weight  acceleration  model year  \\\n",
      "0  18.0          8         307.0        130    3504          12.0          70   \n",
      "1  15.0          8         350.0        165    3693          11.5          70   \n",
      "2  18.0          8         318.0        150    3436          11.0          70   \n",
      "3  16.0          8         304.0        150    3433          12.0          70   \n",
      "4  17.0          8         302.0        140    3449          10.5          70   \n",
      "\n",
      "   origin                   car name  \n",
      "0       1  chevrolet chevelle malibu  \n",
      "1       1          buick skylark 320  \n",
      "2       1         plymouth satellite  \n",
      "3       1              amc rebel sst  \n",
      "4       1                ford torino  \n",
      "      mpg  cylinders  displacement horsepower  weight  acceleration  model year  origin                              car name\n",
      "0    18.0          8         307.0        130    3504          12.0          70       1             chevrolet chevelle malibu\n",
      "1    15.0          8         350.0        165    3693          11.5          70       1                     buick skylark 320\n",
      "2    18.0          8         318.0        150    3436          11.0          70       1                    plymouth satellite\n",
      "3    16.0          8         304.0        150    3433          12.0          70       1                         amc rebel sst\n",
      "4    17.0          8         302.0        140    3449          10.5          70       1                           ford torino\n",
      "5    15.0          8         429.0        198    4341          10.0          70       1                      ford galaxie 500\n",
      "6    14.0          8         454.0        220    4354           9.0          70       1                      chevrolet impala\n",
      "7    14.0          8         440.0        215    4312           8.5          70       1                     plymouth fury iii\n",
      "8    14.0          8         455.0        225    4425          10.0          70       1                      pontiac catalina\n",
      "9    15.0          8         390.0        190    3850           8.5          70       1                    amc ambassador dpl\n",
      "10   15.0          8         383.0        170    3563          10.0          70       1                   dodge challenger se\n",
      "11   14.0          8         340.0        160    3609           8.0          70       1                    plymouth 'cuda 340\n",
      "12   15.0          8         400.0        150    3761           9.5          70       1                 chevrolet monte carlo\n",
      "13   14.0          8         455.0        225    3086          10.0          70       1               buick estate wagon (sw)\n",
      "14   24.0          4         113.0         95    2372          15.0          70       3                 toyota corona mark ii\n",
      "15   22.0          6         198.0         95    2833          15.5          70       1                       plymouth duster\n",
      "16   18.0          6         199.0         97    2774          15.5          70       1                            amc hornet\n",
      "17   21.0          6         200.0         85    2587          16.0          70       1                         ford maverick\n",
      "18   27.0          4          97.0         88    2130          14.5          70       3                          datsun pl510\n",
      "19   26.0          4          97.0         46    1835          20.5          70       2          volkswagen 1131 deluxe sedan\n",
      "20   25.0          4         110.0         87    2672          17.5          70       2                           peugeot 504\n",
      "21   24.0          4         107.0         90    2430          14.5          70       2                           audi 100 ls\n",
      "22   25.0          4         104.0         95    2375          17.5          70       2                              saab 99e\n",
      "23   26.0          4         121.0        113    2234          12.5          70       2                              bmw 2002\n",
      "24   21.0          6         199.0         90    2648          15.0          70       1                           amc gremlin\n",
      "25   10.0          8         360.0        215    4615          14.0          70       1                             ford f250\n",
      "26   10.0          8         307.0        200    4376          15.0          70       1                             chevy c20\n",
      "27   11.0          8         318.0        210    4382          13.5          70       1                            dodge d200\n",
      "28    9.0          8         304.0        193    4732          18.5          70       1                              hi 1200d\n",
      "29   27.0          4          97.0         88    2130          14.5          71       3                          datsun pl510\n",
      "30   28.0          4         140.0         90    2264          15.5          71       1                   chevrolet vega 2300\n",
      "31   25.0          4         113.0         95    2228          14.0          71       3                         toyota corona\n",
      "32   25.0          4          98.0          ?    2046          19.0          71       1                            ford pinto\n",
      "33   19.0          6         232.0        100    2634          13.0          71       1                           amc gremlin\n",
      "34   16.0          6         225.0        105    3439          15.5          71       1             plymouth satellite custom\n",
      "35   17.0          6         250.0        100    3329          15.5          71       1             chevrolet chevelle malibu\n",
      "36   19.0          6         250.0         88    3302          15.5          71       1                       ford torino 500\n",
      "37   18.0          6         232.0        100    3288          15.5          71       1                           amc matador\n",
      "38   14.0          8         350.0        165    4209          12.0          71       1                      chevrolet impala\n",
      "39   14.0          8         400.0        175    4464          11.5          71       1             pontiac catalina brougham\n",
      "40   14.0          8         351.0        153    4154          13.5          71       1                      ford galaxie 500\n",
      "41   14.0          8         318.0        150    4096          13.0          71       1                     plymouth fury iii\n",
      "42   12.0          8         383.0        180    4955          11.5          71       1                     dodge monaco (sw)\n",
      "43   13.0          8         400.0        170    4746          12.0          71       1              ford country squire (sw)\n",
      "44   13.0          8         400.0        175    5140          12.0          71       1                   pontiac safari (sw)\n",
      "45   18.0          6         258.0        110    2962          13.5          71       1            amc hornet sportabout (sw)\n",
      "46   22.0          4         140.0         72    2408          19.0          71       1                   chevrolet vega (sw)\n",
      "47   19.0          6         250.0        100    3282          15.0          71       1                      pontiac firebird\n",
      "48   18.0          6         250.0         88    3139          14.5          71       1                          ford mustang\n",
      "49   23.0          4         122.0         86    2220          14.0          71       1                    mercury capri 2000\n",
      "50   28.0          4         116.0         90    2123          14.0          71       2                             opel 1900\n",
      "51   30.0          4          79.0         70    2074          19.5          71       2                           peugeot 304\n",
      "52   30.0          4          88.0         76    2065          14.5          71       2                             fiat 124b\n",
      "53   31.0          4          71.0         65    1773          19.0          71       3                   toyota corolla 1200\n",
      "54   35.0          4          72.0         69    1613          18.0          71       3                           datsun 1200\n",
      "55   27.0          4          97.0         60    1834          19.0          71       2                  volkswagen model 111\n",
      "56   26.0          4          91.0         70    1955          20.5          71       1                      plymouth cricket\n",
      "57   24.0          4         113.0         95    2278          15.5          72       3                 toyota corona hardtop\n",
      "58   25.0          4          97.5         80    2126          17.0          72       1                    dodge colt hardtop\n",
      "59   23.0          4          97.0         54    2254          23.5          72       2                     volkswagen type 3\n",
      "60   20.0          4         140.0         90    2408          19.5          72       1                        chevrolet vega\n",
      "61   21.0          4         122.0         86    2226          16.5          72       1                   ford pinto runabout\n",
      "62   13.0          8         350.0        165    4274          12.0          72       1                      chevrolet impala\n",
      "63   14.0          8         400.0        175    4385          12.0          72       1                      pontiac catalina\n",
      "64   15.0          8         318.0        150    4135          13.5          72       1                     plymouth fury iii\n",
      "65   14.0          8         351.0        153    4129          13.0          72       1                      ford galaxie 500\n",
      "66   17.0          8         304.0        150    3672          11.5          72       1                    amc ambassador sst\n",
      "67   11.0          8         429.0        208    4633          11.0          72       1                       mercury marquis\n",
      "68   13.0          8         350.0        155    4502          13.5          72       1                  buick lesabre custom\n",
      "69   12.0          8         350.0        160    4456          13.5          72       1            oldsmobile delta 88 royale\n",
      "70   13.0          8         400.0        190    4422          12.5          72       1                chrysler newport royal\n",
      "71   19.0          3          70.0         97    2330          13.5          72       3                       mazda rx2 coupe\n",
      "72   15.0          8         304.0        150    3892          12.5          72       1                      amc matador (sw)\n",
      "73   13.0          8         307.0        130    4098          14.0          72       1      chevrolet chevelle concours (sw)\n",
      "74   13.0          8         302.0        140    4294          16.0          72       1                 ford gran torino (sw)\n",
      "75   14.0          8         318.0        150    4077          14.0          72       1        plymouth satellite custom (sw)\n",
      "76   18.0          4         121.0        112    2933          14.5          72       2                       volvo 145e (sw)\n",
      "77   22.0          4         121.0         76    2511          18.0          72       2                   volkswagen 411 (sw)\n",
      "78   21.0          4         120.0         87    2979          19.5          72       2                      peugeot 504 (sw)\n",
      "79   26.0          4          96.0         69    2189          18.0          72       2                       renault 12 (sw)\n",
      "80   22.0          4         122.0         86    2395          16.0          72       1                       ford pinto (sw)\n",
      "81   28.0          4          97.0         92    2288          17.0          72       3                       datsun 510 (sw)\n",
      "82   23.0          4         120.0         97    2506          14.5          72       3           toyouta corona mark ii (sw)\n",
      "83   28.0          4          98.0         80    2164          15.0          72       1                       dodge colt (sw)\n",
      "84   27.0          4          97.0         88    2100          16.5          72       3              toyota corolla 1600 (sw)\n",
      "85   13.0          8         350.0        175    4100          13.0          73       1                     buick century 350\n",
      "86   14.0          8         304.0        150    3672          11.5          73       1                           amc matador\n",
      "87   13.0          8         350.0        145    3988          13.0          73       1                      chevrolet malibu\n",
      "88   14.0          8         302.0        137    4042          14.5          73       1                      ford gran torino\n",
      "89   15.0          8         318.0        150    3777          12.5          73       1                  dodge coronet custom\n",
      "90   12.0          8         429.0        198    4952          11.5          73       1              mercury marquis brougham\n",
      "91   13.0          8         400.0        150    4464          12.0          73       1             chevrolet caprice classic\n",
      "92   13.0          8         351.0        158    4363          13.0          73       1                              ford ltd\n",
      "93   14.0          8         318.0        150    4237          14.5          73       1              plymouth fury gran sedan\n",
      "94   13.0          8         440.0        215    4735          11.0          73       1          chrysler new yorker brougham\n",
      "95   12.0          8         455.0        225    4951          11.0          73       1              buick electra 225 custom\n",
      "96   13.0          8         360.0        175    3821          11.0          73       1               amc ambassador brougham\n",
      "97   18.0          6         225.0        105    3121          16.5          73       1                      plymouth valiant\n",
      "98   16.0          6         250.0        100    3278          18.0          73       1                 chevrolet nova custom\n",
      "99   18.0          6         232.0        100    2945          16.0          73       1                            amc hornet\n",
      "100  18.0          6         250.0         88    3021          16.5          73       1                         ford maverick\n",
      "101  23.0          6         198.0         95    2904          16.0          73       1                       plymouth duster\n",
      "102  26.0          4          97.0         46    1950          21.0          73       2               volkswagen super beetle\n",
      "103  11.0          8         400.0        150    4997          14.0          73       1                      chevrolet impala\n",
      "104  12.0          8         400.0        167    4906          12.5          73       1                          ford country\n",
      "105  13.0          8         360.0        170    4654          13.0          73       1                plymouth custom suburb\n",
      "106  12.0          8         350.0        180    4499          12.5          73       1              oldsmobile vista cruiser\n",
      "107  18.0          6         232.0        100    2789          15.0          73       1                           amc gremlin\n",
      "108  20.0          4          97.0         88    2279          19.0          73       3                         toyota carina\n",
      "109  21.0          4         140.0         72    2401          19.5          73       1                        chevrolet vega\n",
      "110  22.0          4         108.0         94    2379          16.5          73       3                            datsun 610\n",
      "111  18.0          3          70.0         90    2124          13.5          73       3                             maxda rx3\n",
      "112  19.0          4         122.0         85    2310          18.5          73       1                            ford pinto\n",
      "113  21.0          6         155.0        107    2472          14.0          73       1                      mercury capri v6\n",
      "114  26.0          4          98.0         90    2265          15.5          73       2                  fiat 124 sport coupe\n",
      "115  15.0          8         350.0        145    4082          13.0          73       1               chevrolet monte carlo s\n",
      "116  16.0          8         400.0        230    4278           9.5          73       1                    pontiac grand prix\n",
      "117  29.0          4          68.0         49    1867          19.5          73       2                              fiat 128\n",
      "118  24.0          4         116.0         75    2158          15.5          73       2                            opel manta\n",
      "119  20.0          4         114.0         91    2582          14.0          73       2                            audi 100ls\n",
      "120  19.0          4         121.0        112    2868          15.5          73       2                           volvo 144ea\n",
      "121  15.0          8         318.0        150    3399          11.0          73       1                     dodge dart custom\n",
      "122  24.0          4         121.0        110    2660          14.0          73       2                             saab 99le\n",
      "123  20.0          6         156.0        122    2807          13.5          73       3                        toyota mark ii\n",
      "124  11.0          8         350.0        180    3664          11.0          73       1                      oldsmobile omega\n",
      "125  20.0          6         198.0         95    3102          16.5          74       1                       plymouth duster\n",
      "126  21.0          6         200.0          ?    2875          17.0          74       1                         ford maverick\n",
      "127  19.0          6         232.0        100    2901          16.0          74       1                            amc hornet\n",
      "128  15.0          6         250.0        100    3336          17.0          74       1                        chevrolet nova\n",
      "129  31.0          4          79.0         67    1950          19.0          74       3                           datsun b210\n",
      "130  26.0          4         122.0         80    2451          16.5          74       1                            ford pinto\n",
      "131  32.0          4          71.0         65    1836          21.0          74       3                   toyota corolla 1200\n",
      "132  25.0          4         140.0         75    2542          17.0          74       1                        chevrolet vega\n",
      "133  16.0          6         250.0        100    3781          17.0          74       1     chevrolet chevelle malibu classic\n",
      "134  16.0          6         258.0        110    3632          18.0          74       1                           amc matador\n",
      "135  18.0          6         225.0        105    3613          16.5          74       1            plymouth satellite sebring\n",
      "136  16.0          8         302.0        140    4141          14.0          74       1                      ford gran torino\n",
      "137  13.0          8         350.0        150    4699          14.5          74       1              buick century luxus (sw)\n",
      "138  14.0          8         318.0        150    4457          13.5          74       1             dodge coronet custom (sw)\n",
      "139  14.0          8         302.0        140    4638          16.0          74       1                 ford gran torino (sw)\n",
      "140  14.0          8         304.0        150    4257          15.5          74       1                      amc matador (sw)\n",
      "141  29.0          4          98.0         83    2219          16.5          74       2                              audi fox\n",
      "142  26.0          4          79.0         67    1963          15.5          74       2                     volkswagen dasher\n",
      "143  26.0          4          97.0         78    2300          14.5          74       2                            opel manta\n",
      "144  31.0          4          76.0         52    1649          16.5          74       3                         toyota corona\n",
      "145  32.0          4          83.0         61    2003          19.0          74       3                            datsun 710\n",
      "146  28.0          4          90.0         75    2125          14.5          74       1                            dodge colt\n",
      "147  24.0          4          90.0         75    2108          15.5          74       2                              fiat 128\n",
      "148  26.0          4         116.0         75    2246          14.0          74       2                           fiat 124 tc\n",
      "149  24.0          4         120.0         97    2489          15.0          74       3                           honda civic\n",
      "150  26.0          4         108.0         93    2391          15.5          74       3                                subaru\n",
      "151  31.0          4          79.0         67    2000          16.0          74       2                             fiat x1.9\n",
      "152  19.0          6         225.0         95    3264          16.0          75       1               plymouth valiant custom\n",
      "153  18.0          6         250.0        105    3459          16.0          75       1                        chevrolet nova\n",
      "154  15.0          6         250.0         72    3432          21.0          75       1                       mercury monarch\n",
      "155  15.0          6         250.0         72    3158          19.5          75       1                         ford maverick\n",
      "156  16.0          8         400.0        170    4668          11.5          75       1                      pontiac catalina\n",
      "157  15.0          8         350.0        145    4440          14.0          75       1                     chevrolet bel air\n",
      "158  16.0          8         318.0        150    4498          14.5          75       1                   plymouth grand fury\n",
      "159  14.0          8         351.0        148    4657          13.5          75       1                              ford ltd\n",
      "160  17.0          6         231.0        110    3907          21.0          75       1                         buick century\n",
      "161  16.0          6         250.0        105    3897          18.5          75       1             chevroelt chevelle malibu\n",
      "162  15.0          6         258.0        110    3730          19.0          75       1                           amc matador\n",
      "163  18.0          6         225.0         95    3785          19.0          75       1                         plymouth fury\n",
      "164  21.0          6         231.0        110    3039          15.0          75       1                         buick skyhawk\n",
      "165  20.0          8         262.0        110    3221          13.5          75       1                   chevrolet monza 2+2\n",
      "166  13.0          8         302.0        129    3169          12.0          75       1                       ford mustang ii\n",
      "167  29.0          4          97.0         75    2171          16.0          75       3                        toyota corolla\n",
      "168  23.0          4         140.0         83    2639          17.0          75       1                            ford pinto\n",
      "169  20.0          6         232.0        100    2914          16.0          75       1                           amc gremlin\n",
      "170  23.0          4         140.0         78    2592          18.5          75       1                         pontiac astro\n",
      "171  24.0          4         134.0         96    2702          13.5          75       3                         toyota corona\n",
      "172  25.0          4          90.0         71    2223          16.5          75       2                     volkswagen dasher\n",
      "173  24.0          4         119.0         97    2545          17.0          75       3                            datsun 710\n",
      "174  18.0          6         171.0         97    2984          14.5          75       1                            ford pinto\n",
      "175  29.0          4          90.0         70    1937          14.0          75       2                     volkswagen rabbit\n",
      "176  19.0          6         232.0         90    3211          17.0          75       1                             amc pacer\n",
      "177  23.0          4         115.0         95    2694          15.0          75       2                            audi 100ls\n",
      "178  23.0          4         120.0         88    2957          17.0          75       2                           peugeot 504\n",
      "179  22.0          4         121.0         98    2945          14.5          75       2                           volvo 244dl\n",
      "180  25.0          4         121.0        115    2671          13.5          75       2                             saab 99le\n",
      "181  33.0          4          91.0         53    1795          17.5          75       3                      honda civic cvcc\n",
      "182  28.0          4         107.0         86    2464          15.5          76       2                              fiat 131\n",
      "183  25.0          4         116.0         81    2220          16.9          76       2                             opel 1900\n",
      "184  25.0          4         140.0         92    2572          14.9          76       1                              capri ii\n",
      "185  26.0          4          98.0         79    2255          17.7          76       1                            dodge colt\n",
      "186  27.0          4         101.0         83    2202          15.3          76       2                          renault 12tl\n",
      "187  17.5          8         305.0        140    4215          13.0          76       1     chevrolet chevelle malibu classic\n",
      "188  16.0          8         318.0        150    4190          13.0          76       1                dodge coronet brougham\n",
      "189  15.5          8         304.0        120    3962          13.9          76       1                           amc matador\n",
      "190  14.5          8         351.0        152    4215          12.8          76       1                      ford gran torino\n",
      "191  22.0          6         225.0        100    3233          15.4          76       1                      plymouth valiant\n",
      "192  22.0          6         250.0        105    3353          14.5          76       1                        chevrolet nova\n",
      "193  24.0          6         200.0         81    3012          17.6          76       1                         ford maverick\n",
      "194  22.5          6         232.0         90    3085          17.6          76       1                            amc hornet\n",
      "195  29.0          4          85.0         52    2035          22.2          76       1                    chevrolet chevette\n",
      "196  24.5          4          98.0         60    2164          22.1          76       1                       chevrolet woody\n",
      "197  29.0          4          90.0         70    1937          14.2          76       2                             vw rabbit\n",
      "198  33.0          4          91.0         53    1795          17.4          76       3                           honda civic\n",
      "199  20.0          6         225.0        100    3651          17.7          76       1                        dodge aspen se\n",
      "200  18.0          6         250.0         78    3574          21.0          76       1                     ford granada ghia\n",
      "201  18.5          6         250.0        110    3645          16.2          76       1                    pontiac ventura sj\n",
      "202  17.5          6         258.0         95    3193          17.8          76       1                         amc pacer d/l\n",
      "203  29.5          4          97.0         71    1825          12.2          76       2                     volkswagen rabbit\n",
      "204  32.0          4          85.0         70    1990          17.0          76       3                          datsun b-210\n",
      "205  28.0          4          97.0         75    2155          16.4          76       3                        toyota corolla\n",
      "206  26.5          4         140.0         72    2565          13.6          76       1                            ford pinto\n",
      "207  20.0          4         130.0        102    3150          15.7          76       2                             volvo 245\n",
      "208  13.0          8         318.0        150    3940          13.2          76       1            plymouth volare premier v8\n",
      "209  19.0          4         120.0         88    3270          21.9          76       2                           peugeot 504\n",
      "210  19.0          6         156.0        108    2930          15.5          76       3                        toyota mark ii\n",
      "211  16.5          6         168.0        120    3820          16.7          76       2                    mercedes-benz 280s\n",
      "212  16.5          8         350.0        180    4380          12.1          76       1                      cadillac seville\n",
      "213  13.0          8         350.0        145    4055          12.0          76       1                             chevy c10\n",
      "214  13.0          8         302.0        130    3870          15.0          76       1                             ford f108\n",
      "215  13.0          8         318.0        150    3755          14.0          76       1                            dodge d100\n",
      "216  31.5          4          98.0         68    2045          18.5          77       3                     honda accord cvcc\n",
      "217  30.0          4         111.0         80    2155          14.8          77       1               buick opel isuzu deluxe\n",
      "218  36.0          4          79.0         58    1825          18.6          77       2                         renault 5 gtl\n",
      "219  25.5          4         122.0         96    2300          15.5          77       1                     plymouth arrow gs\n",
      "220  33.5          4          85.0         70    1945          16.8          77       3                 datsun f-10 hatchback\n",
      "221  17.5          8         305.0        145    3880          12.5          77       1             chevrolet caprice classic\n",
      "222  17.0          8         260.0        110    4060          19.0          77       1            oldsmobile cutlass supreme\n",
      "223  15.5          8         318.0        145    4140          13.7          77       1                 dodge monaco brougham\n",
      "224  15.0          8         302.0        130    4295          14.9          77       1               mercury cougar brougham\n",
      "225  17.5          6         250.0        110    3520          16.4          77       1                    chevrolet concours\n",
      "226  20.5          6         231.0        105    3425          16.9          77       1                         buick skylark\n",
      "227  19.0          6         225.0        100    3630          17.7          77       1                plymouth volare custom\n",
      "228  18.5          6         250.0         98    3525          19.0          77       1                          ford granada\n",
      "229  16.0          8         400.0        180    4220          11.1          77       1                 pontiac grand prix lj\n",
      "230  15.5          8         350.0        170    4165          11.4          77       1          chevrolet monte carlo landau\n",
      "231  15.5          8         400.0        190    4325          12.2          77       1                      chrysler cordoba\n",
      "232  16.0          8         351.0        149    4335          14.5          77       1                      ford thunderbird\n",
      "233  29.0          4          97.0         78    1940          14.5          77       2              volkswagen rabbit custom\n",
      "234  24.5          4         151.0         88    2740          16.0          77       1                 pontiac sunbird coupe\n",
      "235  26.0          4          97.0         75    2265          18.2          77       3               toyota corolla liftback\n",
      "236  25.5          4         140.0         89    2755          15.8          77       1                   ford mustang ii 2+2\n",
      "237  30.5          4          98.0         63    2051          17.0          77       1                    chevrolet chevette\n",
      "238  33.5          4          98.0         83    2075          15.9          77       1                        dodge colt m/m\n",
      "239  30.0          4          97.0         67    1985          16.4          77       3                             subaru dl\n",
      "240  30.5          4          97.0         78    2190          14.1          77       2                     volkswagen dasher\n",
      "241  22.0          6         146.0         97    2815          14.5          77       3                            datsun 810\n",
      "242  21.5          4         121.0        110    2600          12.8          77       2                              bmw 320i\n",
      "243  21.5          3          80.0        110    2720          13.5          77       3                            mazda rx-4\n",
      "244  43.1          4          90.0         48    1985          21.5          78       2       volkswagen rabbit custom diesel\n",
      "245  36.1          4          98.0         66    1800          14.4          78       1                           ford fiesta\n",
      "246  32.8          4          78.0         52    1985          19.4          78       3                      mazda glc deluxe\n",
      "247  39.4          4          85.0         70    2070          18.6          78       3                        datsun b210 gx\n",
      "248  36.1          4          91.0         60    1800          16.4          78       3                      honda civic cvcc\n",
      "249  19.9          8         260.0        110    3365          15.5          78       1     oldsmobile cutlass salon brougham\n",
      "250  19.4          8         318.0        140    3735          13.2          78       1                        dodge diplomat\n",
      "251  20.2          8         302.0        139    3570          12.8          78       1                  mercury monarch ghia\n",
      "252  19.2          6         231.0        105    3535          19.2          78       1                    pontiac phoenix lj\n",
      "253  20.5          6         200.0         95    3155          18.2          78       1                      chevrolet malibu\n",
      "254  20.2          6         200.0         85    2965          15.8          78       1                  ford fairmont (auto)\n",
      "255  25.1          4         140.0         88    2720          15.4          78       1                   ford fairmont (man)\n",
      "256  20.5          6         225.0        100    3430          17.2          78       1                       plymouth volare\n",
      "257  19.4          6         232.0         90    3210          17.2          78       1                           amc concord\n",
      "258  20.6          6         231.0        105    3380          15.8          78       1                 buick century special\n",
      "259  20.8          6         200.0         85    3070          16.7          78       1                        mercury zephyr\n",
      "260  18.6          6         225.0        110    3620          18.7          78       1                           dodge aspen\n",
      "261  18.1          6         258.0        120    3410          15.1          78       1                       amc concord d/l\n",
      "262  19.2          8         305.0        145    3425          13.2          78       1          chevrolet monte carlo landau\n",
      "263  17.7          6         231.0        165    3445          13.4          78       1       buick regal sport coupe (turbo)\n",
      "264  18.1          8         302.0        139    3205          11.2          78       1                           ford futura\n",
      "265  17.5          8         318.0        140    4080          13.7          78       1                       dodge magnum xe\n",
      "266  30.0          4          98.0         68    2155          16.5          78       1                    chevrolet chevette\n",
      "267  27.5          4         134.0         95    2560          14.2          78       3                         toyota corona\n",
      "268  27.2          4         119.0         97    2300          14.7          78       3                            datsun 510\n",
      "269  30.9          4         105.0         75    2230          14.5          78       1                            dodge omni\n",
      "270  21.1          4         134.0         95    2515          14.8          78       3             toyota celica gt liftback\n",
      "271  23.2          4         156.0        105    2745          16.7          78       1                      plymouth sapporo\n",
      "272  23.8          4         151.0         85    2855          17.6          78       1                oldsmobile starfire sx\n",
      "273  23.9          4         119.0         97    2405          14.9          78       3                         datsun 200-sx\n",
      "274  20.3          5         131.0        103    2830          15.9          78       2                             audi 5000\n",
      "275  17.0          6         163.0        125    3140          13.6          78       2                           volvo 264gl\n",
      "276  21.6          4         121.0        115    2795          15.7          78       2                            saab 99gle\n",
      "277  16.2          6         163.0        133    3410          15.8          78       2                         peugeot 604sl\n",
      "278  31.5          4          89.0         71    1990          14.9          78       2                   volkswagen scirocco\n",
      "279  29.5          4          98.0         68    2135          16.6          78       3                       honda accord lx\n",
      "280  21.5          6         231.0        115    3245          15.4          79       1                     pontiac lemans v6\n",
      "281  19.8          6         200.0         85    2990          18.2          79       1                      mercury zephyr 6\n",
      "282  22.3          4         140.0         88    2890          17.3          79       1                       ford fairmont 4\n",
      "283  20.2          6         232.0         90    3265          18.2          79       1                      amc concord dl 6\n",
      "284  20.6          6         225.0        110    3360          16.6          79       1                         dodge aspen 6\n",
      "285  17.0          8         305.0        130    3840          15.4          79       1             chevrolet caprice classic\n",
      "286  17.6          8         302.0        129    3725          13.4          79       1                       ford ltd landau\n",
      "287  16.5          8         351.0        138    3955          13.2          79       1                 mercury grand marquis\n",
      "288  18.2          8         318.0        135    3830          15.2          79       1                       dodge st. regis\n",
      "289  16.9          8         350.0        155    4360          14.9          79       1               buick estate wagon (sw)\n",
      "290  15.5          8         351.0        142    4054          14.3          79       1              ford country squire (sw)\n",
      "291  19.2          8         267.0        125    3605          15.0          79       1         chevrolet malibu classic (sw)\n",
      "292  18.5          8         360.0        150    3940          13.0          79       1  chrysler lebaron town @ country (sw)\n",
      "293  31.9          4          89.0         71    1925          14.0          79       2                      vw rabbit custom\n",
      "294  34.1          4          86.0         65    1975          15.2          79       3                      maxda glc deluxe\n",
      "295  35.7          4          98.0         80    1915          14.4          79       1           dodge colt hatchback custom\n",
      "296  27.4          4         121.0         80    2670          15.0          79       1                         amc spirit dl\n",
      "297  25.4          5         183.0         77    3530          20.1          79       2                    mercedes benz 300d\n",
      "298  23.0          8         350.0        125    3900          17.4          79       1                     cadillac eldorado\n",
      "299  27.2          4         141.0         71    3190          24.8          79       2                           peugeot 504\n",
      "300  23.9          8         260.0         90    3420          22.2          79       1     oldsmobile cutlass salon brougham\n",
      "301  34.2          4         105.0         70    2200          13.2          79       1                      plymouth horizon\n",
      "302  34.5          4         105.0         70    2150          14.9          79       1                  plymouth horizon tc3\n",
      "303  31.8          4          85.0         65    2020          19.2          79       3                            datsun 210\n",
      "304  37.3          4          91.0         69    2130          14.7          79       2                    fiat strada custom\n",
      "305  28.4          4         151.0         90    2670          16.0          79       1                 buick skylark limited\n",
      "306  28.8          6         173.0        115    2595          11.3          79       1                    chevrolet citation\n",
      "307  26.8          6         173.0        115    2700          12.9          79       1             oldsmobile omega brougham\n",
      "308  33.5          4         151.0         90    2556          13.2          79       1                       pontiac phoenix\n",
      "309  41.5          4          98.0         76    2144          14.7          80       2                             vw rabbit\n",
      "310  38.1          4          89.0         60    1968          18.8          80       3                 toyota corolla tercel\n",
      "311  32.1          4          98.0         70    2120          15.5          80       1                    chevrolet chevette\n",
      "312  37.2          4          86.0         65    2019          16.4          80       3                            datsun 310\n",
      "313  28.0          4         151.0         90    2678          16.5          80       1                    chevrolet citation\n",
      "314  26.4          4         140.0         88    2870          18.1          80       1                         ford fairmont\n",
      "315  24.3          4         151.0         90    3003          20.1          80       1                           amc concord\n",
      "316  19.1          6         225.0         90    3381          18.7          80       1                           dodge aspen\n",
      "317  34.3          4          97.0         78    2188          15.8          80       2                             audi 4000\n",
      "318  29.8          4         134.0         90    2711          15.5          80       3                toyota corona liftback\n",
      "319  31.3          4         120.0         75    2542          17.5          80       3                             mazda 626\n",
      "320  37.0          4         119.0         92    2434          15.0          80       3                  datsun 510 hatchback\n",
      "321  32.2          4         108.0         75    2265          15.2          80       3                        toyota corolla\n",
      "322  46.6          4          86.0         65    2110          17.9          80       3                             mazda glc\n",
      "323  27.9          4         156.0        105    2800          14.4          80       1                            dodge colt\n",
      "324  40.8          4          85.0         65    2110          19.2          80       3                            datsun 210\n",
      "325  44.3          4          90.0         48    2085          21.7          80       2                  vw rabbit c (diesel)\n",
      "326  43.4          4          90.0         48    2335          23.7          80       2                    vw dasher (diesel)\n",
      "327  36.4          5         121.0         67    2950          19.9          80       2                   audi 5000s (diesel)\n",
      "328  30.0          4         146.0         67    3250          21.8          80       2                    mercedes-benz 240d\n",
      "329  44.6          4          91.0         67    1850          13.8          80       3                   honda civic 1500 gl\n",
      "330  40.9          4          85.0          ?    1835          17.3          80       2                  renault lecar deluxe\n",
      "331  33.8          4          97.0         67    2145          18.0          80       3                             subaru dl\n",
      "332  29.8          4          89.0         62    1845          15.3          80       2                      vokswagen rabbit\n",
      "333  32.7          6         168.0        132    2910          11.4          80       3                         datsun 280-zx\n",
      "334  23.7          3          70.0        100    2420          12.5          80       3                         mazda rx-7 gs\n",
      "335  35.0          4         122.0         88    2500          15.1          80       2                     triumph tr7 coupe\n",
      "336  23.6          4         140.0          ?    2905          14.3          80       1                    ford mustang cobra\n",
      "337  32.4          4         107.0         72    2290          17.0          80       3                          honda accord\n",
      "338  27.2          4         135.0         84    2490          15.7          81       1                      plymouth reliant\n",
      "339  26.6          4         151.0         84    2635          16.4          81       1                         buick skylark\n",
      "340  25.8          4         156.0         92    2620          14.4          81       1                dodge aries wagon (sw)\n",
      "341  23.5          6         173.0        110    2725          12.6          81       1                    chevrolet citation\n",
      "342  30.0          4         135.0         84    2385          12.9          81       1                      plymouth reliant\n",
      "343  39.1          4          79.0         58    1755          16.9          81       3                        toyota starlet\n",
      "344  39.0          4          86.0         64    1875          16.4          81       1                        plymouth champ\n",
      "345  35.1          4          81.0         60    1760          16.1          81       3                      honda civic 1300\n",
      "346  32.3          4          97.0         67    2065          17.8          81       3                                subaru\n",
      "347  37.0          4          85.0         65    1975          19.4          81       3                        datsun 210 mpg\n",
      "348  37.7          4          89.0         62    2050          17.3          81       3                         toyota tercel\n",
      "349  34.1          4          91.0         68    1985          16.0          81       3                           mazda glc 4\n",
      "350  34.7          4         105.0         63    2215          14.9          81       1                    plymouth horizon 4\n",
      "351  34.4          4          98.0         65    2045          16.2          81       1                        ford escort 4w\n",
      "352  29.9          4          98.0         65    2380          20.7          81       1                        ford escort 2h\n",
      "353  33.0          4         105.0         74    2190          14.2          81       2                      volkswagen jetta\n",
      "354  34.5          4         100.0          ?    2320          15.8          81       2                           renault 18i\n",
      "355  33.7          4         107.0         75    2210          14.4          81       3                         honda prelude\n",
      "356  32.4          4         108.0         75    2350          16.8          81       3                        toyota corolla\n",
      "357  32.9          4         119.0        100    2615          14.8          81       3                          datsun 200sx\n",
      "358  31.6          4         120.0         74    2635          18.3          81       3                             mazda 626\n",
      "359  28.1          4         141.0         80    3230          20.4          81       2             peugeot 505s turbo diesel\n",
      "360  30.7          6         145.0         76    3160          19.6          81       2                          volvo diesel\n",
      "361  25.4          6         168.0        116    2900          12.6          81       3                       toyota cressida\n",
      "362  24.2          6         146.0        120    2930          13.8          81       3                     datsun 810 maxima\n",
      "363  22.4          6         231.0        110    3415          15.8          81       1                         buick century\n",
      "364  26.6          8         350.0        105    3725          19.0          81       1                 oldsmobile cutlass ls\n",
      "365  20.2          6         200.0         88    3060          17.1          81       1                       ford granada gl\n",
      "366  17.6          6         225.0         85    3465          16.6          81       1                chrysler lebaron salon\n",
      "367  28.0          4         112.0         88    2605          19.6          82       1                    chevrolet cavalier\n",
      "368  27.0          4         112.0         88    2640          18.6          82       1              chevrolet cavalier wagon\n",
      "369  34.0          4         112.0         88    2395          18.0          82       1             chevrolet cavalier 2-door\n",
      "370  31.0          4         112.0         85    2575          16.2          82       1            pontiac j2000 se hatchback\n",
      "371  29.0          4         135.0         84    2525          16.0          82       1                        dodge aries se\n",
      "372  27.0          4         151.0         90    2735          18.0          82       1                       pontiac phoenix\n",
      "373  24.0          4         140.0         92    2865          16.4          82       1                  ford fairmont futura\n",
      "374  23.0          4         151.0          ?    3035          20.5          82       1                        amc concord dl\n",
      "375  36.0          4         105.0         74    1980          15.3          82       2                   volkswagen rabbit l\n",
      "376  37.0          4          91.0         68    2025          18.2          82       3                    mazda glc custom l\n",
      "377  31.0          4          91.0         68    1970          17.6          82       3                      mazda glc custom\n",
      "378  38.0          4         105.0         63    2125          14.7          82       1                plymouth horizon miser\n",
      "379  36.0          4          98.0         70    2125          17.3          82       1                        mercury lynx l\n",
      "380  36.0          4         120.0         88    2160          14.5          82       3                      nissan stanza xe\n",
      "381  36.0          4         107.0         75    2205          14.5          82       3                          honda accord\n",
      "382  34.0          4         108.0         70    2245          16.9          82       3                        toyota corolla\n",
      "383  38.0          4          91.0         67    1965          15.0          82       3                           honda civic\n",
      "384  32.0          4          91.0         67    1965          15.7          82       3                    honda civic (auto)\n",
      "385  38.0          4          91.0         67    1995          16.2          82       3                         datsun 310 gx\n",
      "386  25.0          6         181.0        110    2945          16.4          82       1                 buick century limited\n",
      "387  38.0          6         262.0         85    3015          17.0          82       1     oldsmobile cutlass ciera (diesel)\n",
      "388  26.0          4         156.0         92    2585          14.5          82       1            chrysler lebaron medallion\n",
      "389  22.0          6         232.0        112    2835          14.7          82       1                        ford granada l\n",
      "390  32.0          4         144.0         96    2665          13.9          82       3                      toyota celica gt\n",
      "391  36.0          4         135.0         84    2370          13.0          82       1                     dodge charger 2.2\n",
      "392  27.0          4         151.0         90    2950          17.3          82       1                      chevrolet camaro\n",
      "393  27.0          4         140.0         86    2790          15.6          82       1                       ford mustang gl\n",
      "394  44.0          4          97.0         52    2130          24.6          82       2                             vw pickup\n",
      "395  32.0          4         135.0         84    2295          11.6          82       1                         dodge rampage\n",
      "396  28.0          4         120.0         79    2625          18.6          82       1                           ford ranger\n",
      "397  31.0          4         119.0         82    2720          19.4          82       1                            chevy s-10\n",
      "Mean MPG: 23.514572864321607\n",
      "Median MPG: 23.0\n",
      "Standard Deviation of MPG: 7.806159061274433\n",
      "Number of cars with MPG > 25: 158\n"
     ]
    }
   ],
   "source": [
    "df = pd.read_csv(\"auto-mpg.csv\")\n",
    "print(df.head())\n",
    "print(df.to_string())\n",
    "mpg_array = df['mpg'].to_numpy()\n",
    "mean_mpg = np.mean(mpg_array)\n",
    "median_mpg = np.median(mpg_array)\n",
    "std_mpg = np.std(mpg_array)\n",
    "num_cars_above_25 = np.sum(mpg_array > 25)\n",
    "print(\"Mean MPG:\", mean_mpg)\n",
    "print(\"Median MPG:\", median_mpg)\n",
    "print(\"Standard Deviation of MPG:\", std_mpg)\n",
    "print(\"Number of cars with MPG > 25:\", num_cars_above_25)"
   ]
  },
  {
   "cell_type": "code",
   "execution_count": null,
   "id": "310ebd90-678d-4554-8891-f914373b6e1b",
   "metadata": {},
   "outputs": [],
   "source": [
    "#problem 2"
   ]
  },
  {
   "cell_type": "code",
   "execution_count": 15,
   "id": "75d10d34-50d1-4337-a03e-c1c334c53769",
   "metadata": {},
   "outputs": [
    {
     "name": "stdout",
     "output_type": "stream",
     "text": [
      "['chevrolet chevelle malibu', 'buick skylark 320', 'plymouth satellite', 'amc rebel sst', 'ford torino', 'ford galaxie 500', 'chevrolet impala', 'plymouth fury iii', 'pontiac catalina', 'amc ambassador dpl', 'dodge challenger se', \"plymouth 'cuda 340\", 'chevrolet monte carlo', 'buick estate wagon (sw)', 'ford f250', 'chevy c20', 'dodge d200', 'hi 1200d', 'chevrolet impala', 'pontiac catalina brougham', 'ford galaxie 500', 'plymouth fury iii', 'dodge monaco (sw)', 'ford country squire (sw)', 'pontiac safari (sw)', 'chevrolet impala', 'pontiac catalina', 'plymouth fury iii', 'ford galaxie 500', 'amc ambassador sst', 'mercury marquis', 'buick lesabre custom', 'oldsmobile delta 88 royale', 'chrysler newport royal', 'amc matador (sw)', 'chevrolet chevelle concours (sw)', 'ford gran torino (sw)', 'plymouth satellite custom (sw)', 'buick century 350', 'amc matador', 'chevrolet malibu', 'ford gran torino', 'dodge coronet custom', 'mercury marquis brougham', 'chevrolet caprice classic', 'ford ltd', 'plymouth fury gran sedan', 'chrysler new yorker brougham', 'buick electra 225 custom', 'amc ambassador brougham', 'chevrolet impala', 'ford country', 'plymouth custom suburb', 'oldsmobile vista cruiser', 'chevrolet monte carlo s', 'pontiac grand prix', 'dodge dart custom', 'oldsmobile omega', 'ford gran torino', 'buick century luxus (sw)', 'dodge coronet custom (sw)', 'ford gran torino (sw)', 'amc matador (sw)', 'pontiac catalina', 'chevrolet bel air', 'plymouth grand fury', 'ford ltd', 'chevrolet monza 2+2', 'ford mustang ii', 'chevrolet chevelle malibu classic', 'dodge coronet brougham', 'amc matador', 'ford gran torino', 'plymouth volare premier v8', 'cadillac seville', 'chevy c10', 'ford f108', 'dodge d100', 'chevrolet caprice classic', 'oldsmobile cutlass supreme', 'dodge monaco brougham', 'mercury cougar brougham', 'pontiac grand prix lj', 'chevrolet monte carlo landau', 'chrysler cordoba', 'ford thunderbird', 'oldsmobile cutlass salon brougham', 'dodge diplomat', 'mercury monarch ghia', 'chevrolet monte carlo landau', 'ford futura', 'dodge magnum xe', 'chevrolet caprice classic', 'ford ltd landau', 'mercury grand marquis', 'dodge st. regis', 'buick estate wagon (sw)', 'ford country squire (sw)', 'chevrolet malibu classic (sw)', 'chrysler lebaron town @ country (sw)', 'cadillac eldorado', 'oldsmobile cutlass salon brougham', 'oldsmobile cutlass ls']\n"
     ]
    }
   ],
   "source": [
    "cylinders_array = df[\"cylinders\"].to_numpy()\n",
    "filtered_indices = np.where(cylinders_array > 6)\n",
    "car_names = df[\"car name\"].to_numpy()[filtered_indices]\n",
    "car_names_list = car_names.tolist()\n",
    "print(car_names_list)\n"
   ]
  },
  {
   "cell_type": "code",
   "execution_count": null,
   "id": "f8111555-01be-4710-8710-83f8c8476ce0",
   "metadata": {},
   "outputs": [],
   "source": [
    "#problem 3"
   ]
  },
  {
   "cell_type": "code",
   "execution_count": 17,
   "id": "cdf6b317-37e7-40f2-990d-2adeab5f5ccd",
   "metadata": {},
   "outputs": [
    {
     "name": "stdout",
     "output_type": "stream",
     "text": [
      "25th Percentile of Weight: 2223.75\n",
      "50th Percentile (Median) of Weight: 2803.5\n",
      "75th Percentile of Weight: 3608.0\n"
     ]
    }
   ],
   "source": [
    "weight_array = df[\"weight\"].to_numpy()\n",
    "percentile_25 = np.percentile(weight_array, 25)\n",
    "percentile_50 = np.percentile(weight_array, 50)\n",
    "percentile_75 = np.percentile(weight_array, 75)"
   ]
  },
  {
   "cell_type": "code",
   "execution_count": null,
   "id": "49ad4560-8ac4-40dd-a6d6-aa5d62906910",
   "metadata": {},
   "outputs": [],
   "source": [
    "#problem 3"
   ]
  },
  {
   "cell_type": "code",
   "execution_count": 18,
   "id": "7a489730-e24a-4ad3-94e5-4078300fec40",
   "metadata": {},
   "outputs": [
    {
     "name": "stdout",
     "output_type": "stream",
     "text": [
      "25th Percentile of Weight: 2223.75\n",
      "50th Percentile (Median) of Weight: 2803.5\n",
      "75th Percentile of Weight: 3608.0\n"
     ]
    }
   ],
   "source": [
    "print(\"25th Percentile of Weight:\", percentile_25)\n",
    "print(\"50th Percentile (Median) of Weight:\", percentile_50)\n",
    "print(\"75th Percentile of Weight:\", percentile_75)"
   ]
  },
  {
   "cell_type": "code",
   "execution_count": null,
   "id": "0eb1dd72-38bc-4457-94f5-27720d9d7dbd",
   "metadata": {},
   "outputs": [],
   "source": [
    "#problem 4"
   ]
  },
  {
   "cell_type": "code",
   "execution_count": 8,
   "id": "a0a43187-7881-4f35-a317-58a5d8aa73b2",
   "metadata": {},
   "outputs": [
    {
     "name": "stdout",
     "output_type": "stream",
     "text": [
      "[0.23809524 0.20833333 0.17857143 0.23809524 0.14880952 0.11904762\n",
      " 0.05952381 0.0297619  0.11904762 0.0297619 ]\n"
     ]
    }
   ],
   "source": [
    "acceleration_array = df[\"acceleration\"].to_numpy()\n",
    "min_val = np.min(acceleration_array)\n",
    "max_val = np.max(acceleration_array)\n",
    "normalized_acceleration = (acceleration_array - min_val) / (max_val - min_val)\n",
    "print(normalized_acceleration[:10])"
   ]
  },
  {
   "cell_type": "code",
   "execution_count": 1,
   "id": "53b8a261-f8dc-4379-a899-771be5da71d5",
   "metadata": {},
   "outputs": [
    {
     "name": "stdout",
     "output_type": "stream",
     "text": [
      "Normalized Acceleration Values:\n",
      "[0.23809524 0.20833333 0.17857143 0.23809524 0.14880952 0.11904762\n",
      " 0.05952381 0.0297619  0.11904762 0.0297619  0.11904762 0.\n",
      " 0.08928571 0.11904762 0.41666667 0.44642857 0.44642857 0.47619048\n",
      " 0.38690476 0.74404762 0.56547619 0.38690476 0.56547619 0.26785714\n",
      " 0.41666667 0.35714286 0.41666667 0.32738095 0.625      0.38690476\n",
      " 0.44642857 0.35714286 0.6547619  0.29761905 0.44642857 0.44642857\n",
      " 0.44642857 0.44642857 0.23809524 0.20833333 0.32738095 0.29761905\n",
      " 0.20833333 0.23809524 0.23809524 0.32738095 0.6547619  0.41666667\n",
      " 0.38690476 0.35714286 0.35714286 0.68452381 0.38690476 0.6547619\n",
      " 0.5952381  0.6547619  0.74404762 0.44642857 0.53571429 0.92261905\n",
      " 0.68452381 0.50595238 0.23809524 0.23809524 0.32738095 0.29761905\n",
      " 0.20833333 0.17857143 0.32738095 0.32738095 0.26785714 0.32738095\n",
      " 0.26785714 0.35714286 0.47619048 0.35714286 0.38690476 0.5952381\n",
      " 0.68452381 0.5952381  0.47619048 0.53571429 0.38690476 0.41666667\n",
      " 0.50595238 0.29761905 0.20833333 0.29761905 0.38690476 0.26785714\n",
      " 0.20833333 0.23809524 0.29761905 0.38690476 0.17857143 0.17857143\n",
      " 0.17857143 0.50595238 0.5952381  0.47619048 0.50595238 0.47619048\n",
      " 0.77380952 0.35714286 0.26785714 0.29761905 0.26785714 0.41666667\n",
      " 0.6547619  0.68452381 0.50595238 0.32738095 0.625      0.35714286\n",
      " 0.44642857 0.29761905 0.08928571 0.68452381 0.44642857 0.35714286\n",
      " 0.44642857 0.17857143 0.35714286 0.32738095 0.17857143 0.50595238\n",
      " 0.53571429 0.47619048 0.53571429 0.6547619  0.50595238 0.77380952\n",
      " 0.53571429 0.53571429 0.5952381  0.50595238 0.35714286 0.38690476\n",
      " 0.32738095 0.47619048 0.44642857 0.50595238 0.44642857 0.38690476\n",
      " 0.50595238 0.6547619  0.38690476 0.44642857 0.35714286 0.41666667\n",
      " 0.44642857 0.47619048 0.47619048 0.47619048 0.77380952 0.68452381\n",
      " 0.20833333 0.35714286 0.38690476 0.32738095 0.77380952 0.625\n",
      " 0.6547619  0.6547619  0.41666667 0.32738095 0.23809524 0.47619048\n",
      " 0.53571429 0.47619048 0.625      0.32738095 0.50595238 0.53571429\n",
      " 0.38690476 0.35714286 0.53571429 0.41666667 0.53571429 0.38690476\n",
      " 0.32738095 0.56547619 0.44642857 0.5297619  0.41071429 0.57738095\n",
      " 0.43452381 0.29761905 0.29761905 0.35119048 0.28571429 0.44047619\n",
      " 0.38690476 0.57142857 0.57142857 0.8452381  0.83928571 0.36904762\n",
      " 0.55952381 0.57738095 0.77380952 0.48809524 0.58333333 0.25\n",
      " 0.53571429 0.5        0.33333333 0.45833333 0.30952381 0.82738095\n",
      " 0.44642857 0.51785714 0.24404762 0.23809524 0.41666667 0.35714286\n",
      " 0.625      0.4047619  0.63095238 0.44642857 0.52380952 0.26785714\n",
      " 0.6547619  0.33928571 0.41071429 0.5        0.5297619  0.57738095\n",
      " 0.6547619  0.18452381 0.20238095 0.25       0.38690476 0.38690476\n",
      " 0.47619048 0.60714286 0.46428571 0.53571429 0.4702381  0.5\n",
      " 0.36309524 0.38690476 0.28571429 0.32738095 0.80357143 0.38095238\n",
      " 0.67857143 0.63095238 0.5        0.44642857 0.30952381 0.28571429\n",
      " 0.66666667 0.60714286 0.46428571 0.44047619 0.54761905 0.54761905\n",
      " 0.46428571 0.51785714 0.63690476 0.42261905 0.30952381 0.32142857\n",
      " 0.19047619 0.33928571 0.50595238 0.36904762 0.39880952 0.38690476\n",
      " 0.4047619  0.51785714 0.57142857 0.41071429 0.4702381  0.33333333\n",
      " 0.45833333 0.46428571 0.41071429 0.51190476 0.44047619 0.60714286\n",
      " 0.55357143 0.60714286 0.51190476 0.44047619 0.32142857 0.30952381\n",
      " 0.42857143 0.41071429 0.375      0.41666667 0.29761905 0.35714286\n",
      " 0.42857143 0.38095238 0.41666667 0.7202381  0.55952381 1.\n",
      " 0.8452381  0.30952381 0.41071429 0.66666667 0.39880952 0.47619048\n",
      " 0.19642857 0.29166667 0.30952381 0.39880952 0.64285714 0.44642857\n",
      " 0.5        0.50595238 0.60119048 0.7202381  0.63690476 0.46428571\n",
      " 0.44642857 0.56547619 0.41666667 0.42857143 0.58928571 0.38095238\n",
      " 0.66666667 0.81547619 0.93452381 0.70833333 0.82142857 0.3452381\n",
      " 0.55357143 0.5952381  0.43452381 0.20238095 0.26785714 0.42261905\n",
      " 0.375      0.53571429 0.45833333 0.5        0.38095238 0.27380952\n",
      " 0.29166667 0.5297619  0.5        0.48214286 0.58333333 0.67857143\n",
      " 0.55357143 0.47619048 0.41071429 0.48809524 0.75595238 0.36904762\n",
      " 0.46428571 0.38095238 0.52380952 0.4047619  0.61309524 0.73809524\n",
      " 0.69047619 0.27380952 0.3452381  0.46428571 0.6547619  0.54166667\n",
      " 0.51190476 0.69047619 0.63095238 0.5952381  0.48809524 0.47619048\n",
      " 0.5952381  0.5        0.74404762 0.43452381 0.60714286 0.57142857\n",
      " 0.39880952 0.55357143 0.38690476 0.38690476 0.5297619  0.41666667\n",
      " 0.45833333 0.48809524 0.5        0.53571429 0.38690476 0.39880952\n",
      " 0.35119048 0.29761905 0.55357143 0.45238095 0.98809524 0.21428571\n",
      " 0.63095238 0.67857143]\n"
     ]
    }
   ],
   "source": [
    "import pandas as pd\n",
    "import numpy as np\n",
    "df = pd.read_csv(\"auto-mpg.csv\")\n",
    "acceleration_array = df['acceleration'].to_numpy()\n",
    "acceleration_normalized = (acceleration_array - acceleration_array.min()) / (acceleration_array.max() - acceleration_array.min())\n",
    "print(\"Normalized Acceleration Values:\")\n",
    "print(acceleration_normalized)"
   ]
  },
  {
   "cell_type": "raw",
   "id": "8b184bd1-fd33-44fd-8611-a1f97506d7ac",
   "metadata": {},
   "source": [
    "#problem 5"
   ]
  },
  {
   "cell_type": "code",
   "execution_count": 9,
   "id": "0cc452a0-029d-4248-9432-8c53fcf86645",
   "metadata": {},
   "outputs": [
    {
     "name": "stdout",
     "output_type": "stream",
     "text": [
      "First 5 horsepower values (after replacing NaN): [130. 165. 150. 150. 140.]\n",
      "First 5 increased horsepower values (+10%): [143.  181.5 165.  165.  154. ]\n"
     ]
    }
   ],
   "source": [
    "import pandas as pd\n",
    "import numpy as np\n",
    "data = pd.read_csv(\"auto-mpg.csv\")\n",
    "data['horsepower'] = pd.to_numeric(data['horsepower'], errors='coerce')\n",
    "horsepower_array = data['horsepower'].to_numpy()\n",
    "hp_mean = np.nanmean(horsepower_array)\n",
    "horsepower_no_nan = np.where(np.isnan(horsepower_array), hp_mean, horsepower_array)\n",
    "horsepower_increased = horsepower_no_nan * 1.10\n",
    "print(\"First 5 horsepower values (after replacing NaN):\", horsepower_no_nan[:5])\n",
    "print(\"First 5 increased horsepower values (+10%):\", horsepower_increased[:5])\n"
   ]
  },
  {
   "cell_type": "code",
   "execution_count": null,
   "id": "4375f754-1fa0-4776-818e-486509f7540b",
   "metadata": {},
   "outputs": [],
   "source": [
    "#problem 6"
   ]
  },
  {
   "cell_type": "code",
   "execution_count": 23,
   "id": "3f17d449-99ba-4c93-824a-d54f6d57e6f0",
   "metadata": {},
   "outputs": [
    {
     "name": "stdout",
     "output_type": "stream",
     "text": [
      "Average displacement of European cars: 109.14285714285714\n"
     ]
    }
   ],
   "source": [
    "df[\"origin\"] = pd.to_numeric(df[\"origin\"], errors=\"coerce\")\n",
    "displacement_array = df[\"displacement\"].to_numpy()\n",
    "origin_array = df[\"origin\"].to_numpy()\n",
    "european_cars_displacement = displacement_array[origin_array == 2]\n",
    "average_displacement = np.mean(european_cars_displacement)\n",
    "print(\"Average displacement of European cars:\", average_displacement)"
   ]
  },
  {
   "cell_type": "code",
   "execution_count": null,
   "id": "93cb08f6-6a3e-4d4e-b2b9-28046f415d93",
   "metadata": {},
   "outputs": [],
   "source": [
    "#problem 7"
   ]
  },
  {
   "cell_type": "code",
   "execution_count": 24,
   "id": "4f311f6a-465a-4034-ba57-9fcf7aa22773",
   "metadata": {},
   "outputs": [
    {
     "name": "stdout",
     "output_type": "stream",
     "text": [
      "First 5 dot product values:\n",
      " [-617.8 -641.1 -594.2 -595.6 -602.8]\n"
     ]
    }
   ],
   "source": [
    "df[\"horsepower\"] = pd.to_numeric(df[\"horsepower\"], errors=\"coerce\")\n",
    "df[\"horsepower\"].fillna(df[\"horsepower\"].mean(), inplace=True)\n",
    "data_matrix = df[[\"mpg\", \"horsepower\", \"weight\"]].to_numpy()\n",
    "vector = np.array([1, 0.5, -0.2])\n",
    "dot_product_result = np.dot(data_matrix, vector)\n",
    "print(\"First 5 dot product values:\\n\", dot_product_result[:5])"
   ]
  },
  {
   "cell_type": "code",
   "execution_count": null,
   "id": "3fe95023-ac15-4d57-9468-178a98a37961",
   "metadata": {},
   "outputs": [],
   "source": [
    "#problem 8"
   ]
  },
  {
   "cell_type": "code",
   "execution_count": 11,
   "id": "0f0f41bd-5a90-4354-8153-9bc7d9ddc4f9",
   "metadata": {},
   "outputs": [
    {
     "name": "stdout",
     "output_type": "stream",
     "text": [
      "Top 5 cars with the newest model years:\n",
      "397                    chevy s-10\n",
      "367            chevrolet cavalier\n",
      "368      chevrolet cavalier wagon\n",
      "369     chevrolet cavalier 2-door\n",
      "370    pontiac j2000 se hatchback\n",
      "Name: car name, dtype: object\n"
     ]
    }
   ],
   "source": [
    "import pandas as pd\n",
    "import numpy as np\n",
    "df = pd.read_csv(\"auto-mpg.csv\")\n",
    "df.columns = df.columns.str.strip()\n",
    "model_year_array = df['model year'].to_numpy()  \n",
    "sorted_indices = np.argsort(-model_year_array)\n",
    "top_car_names = df['car name'].iloc[sorted_indices]\n",
    "print(\"Top 5 cars with the newest model years:\")\n",
    "print(top_car_names.head())\n"
   ]
  },
  {
   "cell_type": "code",
   "execution_count": null,
   "id": "e3c25e39-19d7-4180-9f7e-016c4d37e755",
   "metadata": {},
   "outputs": [],
   "source": [
    "problem 9"
   ]
  },
  {
   "cell_type": "code",
   "execution_count": 38,
   "id": "c55e43d0-02dc-4379-b72a-a8882e835234",
   "metadata": {},
   "outputs": [
    {
     "name": "stdout",
     "output_type": "stream",
     "text": [
      "Pearson correlation coefficient between mpg and weight: -0.8317409332443352\n"
     ]
    }
   ],
   "source": [
    "import numpy as np\n",
    "import pandas as pd\n",
    "file_path = \"auto-mpg.csv\"  \n",
    "mpg_array = df[\"mpg\"].to_numpy()\n",
    "weight_array = df[\"weight\"].to_numpy()\n",
    "correlation_coefficient = np.corrcoef(mpg_array, weight_array)[0, 1]\n",
    "print(\"Pearson correlation coefficient between mpg and weight:\", correlation_coefficient)"
   ]
  },
  {
   "cell_type": "code",
   "execution_count": null,
   "id": "2e3bc556-5b4e-44e0-a413-0ed6990df7f4",
   "metadata": {},
   "outputs": [],
   "source": [
    "problem 10"
   ]
  },
  {
   "cell_type": "code",
   "execution_count": 39,
   "id": "6651d6d5-5113-4bf9-bf87-8ac81542cab1",
   "metadata": {},
   "outputs": [
    {
     "name": "stdout",
     "output_type": "stream",
     "text": [
      "Mean MPG for 3 cylinders: 20.55\n",
      "Mean MPG for 4 cylinders: 29.29\n",
      "Mean MPG for 5 cylinders: 27.37\n",
      "Mean MPG for 6 cylinders: 19.99\n",
      "Mean MPG for 8 cylinders: 14.96\n"
     ]
    }
   ],
   "source": [
    "import numpy as np\n",
    "import pandas as pd\n",
    "file_path = \"auto-mpg.csv\" \n",
    "df = pd.read_csv(file_path)\n",
    "mpg_array = df[\"mpg\"].to_numpy()\n",
    "cylinders_array = df[\"cylinders\"].to_numpy()\n",
    "unique_cylinders = np.unique(cylinders_array)\n",
    "for cyl in unique_cylinders:\n",
    "    mean_mpg = np.mean(mpg_array[cylinders_array == cyl])\n",
    "    print(f\"Mean MPG for {cyl} cylinders: {mean_mpg:.2f}\")"
   ]
  },
  {
   "cell_type": "code",
   "execution_count": null,
   "id": "dd7817b2-b522-495b-b237-fe30a55a2b5d",
   "metadata": {},
   "outputs": [],
   "source": [
    "#pandas"
   ]
  },
  {
   "cell_type": "code",
   "execution_count": null,
   "id": "62408902-4ecd-44ad-876a-75e24df24466",
   "metadata": {},
   "outputs": [],
   "source": [
    "problem 1"
   ]
  },
  {
   "cell_type": "code",
   "execution_count": 40,
   "id": "67c8397b-bf6a-48c4-9f93-bb1d4fe503e9",
   "metadata": {},
   "outputs": [
    {
     "name": "stdout",
     "output_type": "stream",
     "text": [
      "First 10 rows of the dataset:\n",
      "    mpg  cylinders  displacement horsepower  weight  acceleration  model year  \\\n",
      "0  18.0          8         307.0        130    3504          12.0          70   \n",
      "1  15.0          8         350.0        165    3693          11.5          70   \n",
      "2  18.0          8         318.0        150    3436          11.0          70   \n",
      "3  16.0          8         304.0        150    3433          12.0          70   \n",
      "4  17.0          8         302.0        140    3449          10.5          70   \n",
      "5  15.0          8         429.0        198    4341          10.0          70   \n",
      "6  14.0          8         454.0        220    4354           9.0          70   \n",
      "7  14.0          8         440.0        215    4312           8.5          70   \n",
      "8  14.0          8         455.0        225    4425          10.0          70   \n",
      "9  15.0          8         390.0        190    3850           8.5          70   \n",
      "\n",
      "   origin                   car name  \n",
      "0       1  chevrolet chevelle malibu  \n",
      "1       1          buick skylark 320  \n",
      "2       1         plymouth satellite  \n",
      "3       1              amc rebel sst  \n",
      "4       1                ford torino  \n",
      "5       1           ford galaxie 500  \n",
      "6       1           chevrolet impala  \n",
      "7       1          plymouth fury iii  \n",
      "8       1           pontiac catalina  \n",
      "9       1         amc ambassador dpl  \n",
      "\n",
      "Total number of rows and columns:\n",
      "(398, 9)\n",
      "\n",
      "Summary statistics for numerical columns:\n",
      "              mpg   cylinders  displacement       weight  acceleration  \\\n",
      "count  398.000000  398.000000    398.000000   398.000000    398.000000   \n",
      "mean    23.514573    5.454774    193.425879  2970.424623     15.568090   \n",
      "std      7.815984    1.701004    104.269838   846.841774      2.757689   \n",
      "min      9.000000    3.000000     68.000000  1613.000000      8.000000   \n",
      "25%     17.500000    4.000000    104.250000  2223.750000     13.825000   \n",
      "50%     23.000000    4.000000    148.500000  2803.500000     15.500000   \n",
      "75%     29.000000    8.000000    262.000000  3608.000000     17.175000   \n",
      "max     46.600000    8.000000    455.000000  5140.000000     24.800000   \n",
      "\n",
      "       model year      origin  \n",
      "count  398.000000  398.000000  \n",
      "mean    76.010050    1.572864  \n",
      "std      3.697627    0.802055  \n",
      "min     70.000000    1.000000  \n",
      "25%     73.000000    1.000000  \n",
      "50%     76.000000    1.000000  \n",
      "75%     79.000000    2.000000  \n",
      "max     82.000000    3.000000  \n"
     ]
    }
   ],
   "source": [
    "import pandas as pd\n",
    "file_path = \"auto-mpg.csv\"\n",
    "df = pd.read_csv(file_path)\n",
    "print(\"First 10 rows of the dataset:\")\n",
    "print(df.head(10))\n",
    "print(\"\\nTotal number of rows and columns:\")\n",
    "print(df.shape)\n",
    "print(\"\\nSummary statistics for numerical columns:\")\n",
    "print(df.describe())"
   ]
  },
  {
   "cell_type": "code",
   "execution_count": null,
   "id": "72dce72f-a016-4038-b23f-03eeeaf5051d",
   "metadata": {},
   "outputs": [],
   "source": [
    "problem 2"
   ]
  },
  {
   "cell_type": "code",
   "execution_count": 1,
   "id": "9db5ecfb-d82e-4542-b99f-f5abb5603148",
   "metadata": {},
   "outputs": [
    {
     "name": "stdout",
     "output_type": "stream",
     "text": [
      "              car name  weight   mpg\n",
      "167     toyota corolla    2171  29.0\n",
      "168         ford pinto    2639  23.0\n",
      "169        amc gremlin    2914  20.0\n",
      "170      pontiac astro    2592  23.0\n",
      "171      toyota corona    2702  24.0\n",
      "172  volkswagen dasher    2223  25.0\n",
      "173         datsun 710    2545  24.0\n",
      "174         ford pinto    2984  18.0\n",
      "175  volkswagen rabbit    1937  29.0\n",
      "177         audi 100ls    2694  23.0\n",
      "178        peugeot 504    2957  23.0\n",
      "179        volvo 244dl    2945  22.0\n",
      "180          saab 99le    2671  25.0\n",
      "181   honda civic cvcc    1795  33.0\n"
     ]
    }
   ],
   "source": [
    "import pandas as pd\n",
    "file_path = \"auto-mpg.csv\"\n",
    "df = pd.read_csv(file_path)\n",
    "df_1975 = df[df[\"model year\"] == 75]\n",
    "df_filtered = df_1975[df_1975[\"weight\"] < 3000]\n",
    "df_result = df_filtered[[\"car name\", \"weight\", \"mpg\"]]\n",
    "print(df_result)"
   ]
  },
  {
   "cell_type": "code",
   "execution_count": null,
   "id": "7b009a00-a6af-4909-9cc4-9523e73fcc35",
   "metadata": {},
   "outputs": [],
   "source": [
    "problem 3"
   ]
  },
  {
   "cell_type": "code",
   "execution_count": 2,
   "id": "7f5f707a-27bc-4c5a-bfa1-5c70dae5c70c",
   "metadata": {},
   "outputs": [
    {
     "name": "stdout",
     "output_type": "stream",
     "text": [
      "Missing values before handling:\n",
      " mpg             0\n",
      "cylinders       0\n",
      "displacement    0\n",
      "horsepower      0\n",
      "weight          0\n",
      "acceleration    0\n",
      "model year      0\n",
      "origin          0\n",
      "car name        0\n",
      "dtype: int64\n",
      "\n",
      "Missing values after handling:\n",
      " mpg             0\n",
      "cylinders       0\n",
      "displacement    0\n",
      "horsepower      0\n",
      "weight          0\n",
      "acceleration    0\n",
      "model year      0\n",
      "origin          0\n",
      "car name        0\n",
      "dtype: int64\n"
     ]
    }
   ],
   "source": [
    "import pandas as pd\n",
    "file_path = \"auto-mpg.csv\" \n",
    "df = pd.read_csv(file_path)\n",
    "print(\"Missing values before handling:\\n\", df.isnull().sum())\n",
    "df[\"horsepower\"] = pd.to_numeric(df[\"horsepower\"], errors=\"coerce\")\n",
    "median_hp = df[\"horsepower\"].median()\n",
    "df[\"horsepower\"].fillna(median_hp, inplace=True)\n",
    "print(\"\\nMissing values after handling:\\n\", df.isnull().sum())"
   ]
  },
  {
   "cell_type": "code",
   "execution_count": null,
   "id": "66151581-76a1-458d-9e31-268e643a066f",
   "metadata": {},
   "outputs": [],
   "source": [
    "problem 4"
   ]
  },
  {
   "cell_type": "code",
   "execution_count": 3,
   "id": "4078f626-140d-43ea-8413-e8391a1bbe56",
   "metadata": {},
   "outputs": [
    {
     "name": "stdout",
     "output_type": "stream",
     "text": [
      "    mpg  cylinders  displacement  horsepower  weight  acceleration  \\\n",
      "0  18.0          8         307.0       130.0    3504          12.0   \n",
      "1  15.0          8         350.0       165.0    3693          11.5   \n",
      "2  18.0          8         318.0       150.0    3436          11.0   \n",
      "3  16.0          8         304.0       150.0    3433          12.0   \n",
      "4  17.0          8         302.0       140.0    3449          10.5   \n",
      "\n",
      "   model year  origin                   car name  power_to_weight_ratio  \n",
      "0          70       1  chevrolet chevelle malibu               0.037100  \n",
      "1          70       1          buick skylark 320               0.044679  \n",
      "2          70       1         plymouth satellite               0.043655  \n",
      "3          70       1              amc rebel sst               0.043694  \n",
      "4          70       1                ford torino               0.040591  \n"
     ]
    }
   ],
   "source": [
    "import pandas as pd\n",
    "file_path = \"auto-mpg.csv\" \n",
    "df = pd.read_csv(file_path)\n",
    "df[\"horsepower\"] = pd.to_numeric(df[\"horsepower\"], errors=\"coerce\")\n",
    "median_hp = df[\"horsepower\"].median()\n",
    "df[\"horsepower\"].fillna(median_hp, inplace=True)\n",
    "df[\"power_to_weight_ratio\"] = df[\"horsepower\"] / df[\"weight\"]\n",
    "print(df.head())"
   ]
  },
  {
   "cell_type": "code",
   "execution_count": null,
   "id": "c18565e2-0254-4697-9b01-29a5e7a3b356",
   "metadata": {},
   "outputs": [],
   "source": [
    "problem 5"
   ]
  },
  {
   "cell_type": "code",
   "execution_count": 4,
   "id": "75d8949b-0f4f-4c6c-9352-e2c19c72fee3",
   "metadata": {},
   "outputs": [
    {
     "name": "stdout",
     "output_type": "stream",
     "text": [
      "Mean MPG by Origin:\n",
      " origin\n",
      "1    20.083534\n",
      "2    27.891429\n",
      "3    30.450633\n",
      "Name: mpg, dtype: float64\n",
      "\n",
      "Top 10 Cars with Highest MPG:\n",
      "                             car name   mpg\n",
      "322                        mazda glc  46.6\n",
      "329              honda civic 1500 gl  44.6\n",
      "325             vw rabbit c (diesel)  44.3\n",
      "394                        vw pickup  44.0\n",
      "326               vw dasher (diesel)  43.4\n",
      "244  volkswagen rabbit custom diesel  43.1\n",
      "309                        vw rabbit  41.5\n",
      "330             renault lecar deluxe  40.9\n",
      "324                       datsun 210  40.8\n",
      "247                   datsun b210 gx  39.4\n"
     ]
    }
   ],
   "source": [
    "import pandas as pd\n",
    "file_path = \"auto-mpg.csv\"\n",
    "df = pd.read_csv(file_path)\n",
    "mean_mpg_by_origin = df.groupby(\"origin\")[\"mpg\"].mean()\n",
    "print(\"Mean MPG by Origin:\\n\", mean_mpg_by_origin)\n",
    "df_sorted = df.sort_values(by=\"mpg\", ascending=False)\n",
    "top_10_mpg_cars = df_sorted[[\"car name\", \"mpg\"]].head(10)\n",
    "print(\"\\nTop 10 Cars with Highest MPG:\\n\", top_10_mpg_cars)"
   ]
  },
  {
   "cell_type": "code",
   "execution_count": null,
   "id": "d8d230c6-fe2f-4b91-9b36-e8acd0f50495",
   "metadata": {},
   "outputs": [],
   "source": [
    "problem 6,7"
   ]
  },
  {
   "cell_type": "code",
   "execution_count": 12,
   "id": "3a381311-e9b4-4a2e-a509-8f69e92cfdd2",
   "metadata": {},
   "outputs": [
    {
     "name": "stdout",
     "output_type": "stream",
     "text": [
      "Top 10 cars with highest MPG:\n",
      "                            car name   mpg\n",
      "322                        mazda glc  46.6\n",
      "329              honda civic 1500 gl  44.6\n",
      "325             vw rabbit c (diesel)  44.3\n",
      "394                        vw pickup  44.0\n",
      "326               vw dasher (diesel)  43.4\n",
      "244  volkswagen rabbit custom diesel  43.1\n",
      "309                        vw rabbit  41.5\n",
      "330             renault lecar deluxe  40.9\n",
      "324                       datsun 210  40.8\n",
      "247                   datsun b210 gx  39.4\n",
      "\n",
      "Sample rows with performance_score:\n",
      "                    car name   mpg  acceleration  weight  performance_score\n",
      "0  chevrolet chevelle malibu  18.0          12.0    3504           0.061644\n",
      "1          buick skylark 320  15.0          11.5    3693           0.046710\n",
      "2         plymouth satellite  18.0          11.0    3436           0.057625\n",
      "3              amc rebel sst  16.0          12.0    3433           0.055928\n",
      "4                ford torino  17.0          10.5    3449           0.051754\n"
     ]
    }
   ],
   "source": [
    "import pandas as pd\n",
    "df = pd.read_csv(\"auto-mpg.csv\")\n",
    "df.columns = df.columns.str.strip()\n",
    "df['mpg'] = pd.to_numeric(df['mpg'], errors='coerce')\n",
    "df['acceleration'] = pd.to_numeric(df['acceleration'], errors='coerce')\n",
    "df['weight'] = pd.to_numeric(df['weight'], errors='coerce')\n",
    "top_mpg_cars = df.sort_values(by='mpg', ascending=False)\n",
    "print(\"Top 10 cars with highest MPG:\")\n",
    "print(top_mpg_cars[['car name', 'mpg']].head(10))\n",
    "def performance_score(row):\n",
    "    return row['mpg'] * row['acceleration'] / row['weight']\n",
    "df['performance_score'] = df.apply(performance_score, axis=1)\n",
    "print(\"\\nSample rows with performance_score:\")\n",
    "print(df[['car name', 'mpg', 'acceleration', 'weight', 'performance_score']].head())"
   ]
  },
  {
   "cell_type": "code",
   "execution_count": 5,
   "id": "838dc8ff-f167-47cc-85fe-75b147c3e243",
   "metadata": {},
   "outputs": [
    {
     "name": "stdout",
     "output_type": "stream",
     "text": [
      "    model year    mpg   weight  horsepower\n",
      "0           70  17.69  3372.79      147.83\n",
      "1           71  21.25  2995.43      107.04\n",
      "2           72  18.71  3237.71      120.18\n",
      "3           73  17.10  3419.02      130.48\n",
      "4           74  22.70  2877.93       94.23\n",
      "5           75  20.27  3176.80      101.07\n",
      "6           76  21.57  3078.74      101.12\n",
      "7           77  23.38  2997.36      105.07\n",
      "8           78  24.06  2861.81       99.69\n",
      "9           79  25.09  3055.34      101.21\n",
      "10          80  33.70  2436.66       77.48\n",
      "11          81  30.33  2522.93       81.04\n",
      "12          82  31.71  2453.55       81.47\n"
     ]
    }
   ],
   "source": [
    "import pandas as pd\n",
    "df = pd.read_csv(\"auto-mpg.csv\")\n",
    "df['horsepower'] = pd.to_numeric(df['horsepower'], errors='coerce')\n",
    "summary_df = df.groupby('model year')[['mpg', 'weight', 'horsepower']].mean().reset_index()\n",
    "summary_df = summary_df.round(2)\n",
    "print(summary_df)"
   ]
  },
  {
   "cell_type": "code",
   "execution_count": null,
   "id": "1cb12969-ee3d-49dc-89f9-1c71f354c9bd",
   "metadata": {},
   "outputs": [],
   "source": [
    "#program 8"
   ]
  },
  {
   "cell_type": "code",
   "execution_count": 5,
   "id": "daae1ef2-a54a-4286-800b-aa774ddf340d",
   "metadata": {},
   "outputs": [
    {
     "name": "stdout",
     "output_type": "stream",
     "text": [
      "                    car name   mpg  acceleration  weight  performance_score\n",
      "0  chevrolet chevelle malibu  18.0          12.0    3504           0.061644\n",
      "1          buick skylark 320  15.0          11.5    3693           0.046710\n",
      "2         plymouth satellite  18.0          11.0    3436           0.057625\n",
      "3              amc rebel sst  16.0          12.0    3433           0.055928\n",
      "4                ford torino  17.0          10.5    3449           0.051754\n"
     ]
    }
   ],
   "source": [
    "import pandas as pd\n",
    "file_path = \"auto-mpg.csv\" \n",
    "df = pd.read_csv(file_path)\n",
    "def performance_score(row):\n",
    "    return (row[\"mpg\"] * row[\"acceleration\"]) / row[\"weight\"]\n",
    "df[\"performance_score\"] = df.apply(performance_score, axis=1)\n",
    "print(df[[\"car name\", \"mpg\", \"acceleration\", \"weight\", \"performance_score\"]].head())"
   ]
  },
  {
   "cell_type": "code",
   "execution_count": null,
   "id": "ce236b7d-0cad-4f40-9822-08fd83a924e7",
   "metadata": {},
   "outputs": [],
   "source": [
    "problem 8"
   ]
  },
  {
   "cell_type": "code",
   "execution_count": 3,
   "id": "7ffcb4dc-a3b3-43e3-bdd6-c0b6170f4d84",
   "metadata": {},
   "outputs": [
    {
     "name": "stdout",
     "output_type": "stream",
     "text": [
      "    model year    mpg   weight  horsepower\n",
      "0           70  17.69  3372.79      147.83\n",
      "1           71  21.25  2995.43      107.04\n",
      "2           72  18.71  3237.71      120.18\n",
      "3           73  17.10  3419.02      130.48\n",
      "4           74  22.70  2877.93       94.23\n",
      "5           75  20.27  3176.80      101.07\n",
      "6           76  21.57  3078.74      101.12\n",
      "7           77  23.38  2997.36      105.07\n",
      "8           78  24.06  2861.81       99.69\n",
      "9           79  25.09  3055.34      101.21\n",
      "10          80  33.70  2436.66       77.48\n",
      "11          81  30.33  2522.93       81.04\n",
      "12          82  31.71  2453.55       81.47\n"
     ]
    }
   ],
   "source": [
    "import pandas as pd\n",
    "df = pd.read_csv(\"auto-mpg.csv\")\n",
    "df['horsepower'] = pd.to_numeric(df['horsepower'], errors='coerce')\n",
    "summary_df = df.groupby('model year')[['mpg', 'weight', 'horsepower']].mean().reset_index()\n",
    "summary_df = summary_df.round(2)\n",
    "print(summary_df)"
   ]
  },
  {
   "cell_type": "code",
   "execution_count": null,
   "id": "87536cda-87f0-46b5-a739-db92edb8c286",
   "metadata": {},
   "outputs": [],
   "source": [
    "problem 9,10"
   ]
  },
  {
   "cell_type": "code",
   "execution_count": 7,
   "id": "5c6552ef-6eef-4982-a1b1-e50cffbeb841",
   "metadata": {},
   "outputs": [
    {
     "name": "stdout",
     "output_type": "stream",
     "text": [
      "high_mpg_cars.csv has been saved!\n",
      "\n",
      "Potential outliers in mpg column:\n",
      "      car name   mpg\n",
      "322  mazda glc  46.6\n"
     ]
    }
   ],
   "source": [
    "import pandas as pd\n",
    "file_path = \"auto-mpg.csv\"\n",
    "df = pd.read_csv(file_path)\n",
    "df[\"horsepower\"] = pd.to_numeric(df[\"horsepower\"], errors=\"coerce\")\n",
    "df[\"horsepower\"].fillna(df[\"horsepower\"].median(), inplace=True)\n",
    "high_mpg_cars = df[df[\"mpg\"] > 30][[\"mpg\", \"cylinders\", \"horsepower\", \"weight\"]]\n",
    "high_mpg_cars.to_csv(\"high_mpg_cars.csv\", index=False)\n",
    "print(\"high_mpg_cars.csv has been saved!\")\n",
    "Q1 = df[\"mpg\"].quantile(0.25)  \n",
    "Q3 = df[\"mpg\"].quantile(0.75) \n",
    "IQR = Q3 - Q1 \n",
    "lower_bound = Q1 - 1.5 * IQR\n",
    "upper_bound = Q3 + 1.5 * IQR\n",
    "outliers = df[(df[\"mpg\"] < lower_bound) | (df[\"mpg\"] > upper_bound)]\n",
    "print(\"\\nPotential outliers in mpg column:\")\n",
    "print(outliers[[\"car name\", \"mpg\"]])"
   ]
  },
  {
   "cell_type": "code",
   "execution_count": null,
   "id": "932aa33c-0b9c-4d66-805e-638a49e4f41b",
   "metadata": {},
   "outputs": [],
   "source": []
  }
 ],
 "metadata": {
  "kernelspec": {
   "display_name": "anaconda-panel-2023.05-py310",
   "language": "python",
   "name": "conda-env-anaconda-panel-2023.05-py310-py"
  },
  "language_info": {
   "codemirror_mode": {
    "name": "ipython",
    "version": 3
   },
   "file_extension": ".py",
   "mimetype": "text/x-python",
   "name": "python",
   "nbconvert_exporter": "python",
   "pygments_lexer": "ipython3",
   "version": "3.11.5"
  }
 },
 "nbformat": 4,
 "nbformat_minor": 5
}
